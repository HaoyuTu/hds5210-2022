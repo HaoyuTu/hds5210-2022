{
 "cells": [
  {
   "cell_type": "markdown",
   "metadata": {
    "nbgrader": {
     "grade": false,
     "grade_id": "cell-fc1c39d0d6f8b82a",
     "locked": true,
     "schema_version": 1,
     "solution": false
    }
   },
   "source": [
    "# Week 13 Programming Assignment\n",
    "\n",
    "As you're working on identifying data for your final project, it's helpful to spend some time exploring your various data files.  For this week's assignment, I'd like you to take a few of the ideas from the the lectures, review assignment, and tonight's lecture to start exploring the data you plan to use for the final project.\n",
    "\n",
    "For the following activities, you can use just one of the data files that you've identified, or you can do the activities using different data files.  That's up to you.  Please describe what you're doing in a Markdown cell or in the comments of your code.  When you've completed the assignment, submit it as normal."
   ]
  },
  {
   "cell_type": "markdown",
   "metadata": {},
   "source": [
    "### 1. Basic Statistics\n",
    "\n",
    "Use Python to read in your data file and show many rows and columns your data has."
   ]
  },
  {
   "cell_type": "code",
   "execution_count": 1,
   "metadata": {},
   "outputs": [],
   "source": [
    "import pandas as pd\n",
    "\n",
    "avg_salary = pd.read_csv('Employment_Average_1990-2021.csv')"
   ]
  },
  {
   "cell_type": "code",
   "execution_count": 2,
   "metadata": {},
   "outputs": [
    {
     "data": {
      "text/html": [
       "<div>\n",
       "<style scoped>\n",
       "    .dataframe tbody tr th:only-of-type {\n",
       "        vertical-align: middle;\n",
       "    }\n",
       "\n",
       "    .dataframe tbody tr th {\n",
       "        vertical-align: top;\n",
       "    }\n",
       "\n",
       "    .dataframe thead th {\n",
       "        text-align: right;\n",
       "    }\n",
       "</style>\n",
       "<table border=\"1\" class=\"dataframe\">\n",
       "  <thead>\n",
       "    <tr style=\"text-align: right;\">\n",
       "      <th></th>\n",
       "      <th>Area Type</th>\n",
       "      <th>Area Name</th>\n",
       "      <th>Year</th>\n",
       "      <th>Period</th>\n",
       "      <th>Series Code</th>\n",
       "      <th>Industry Title</th>\n",
       "      <th>Seasonally Adjusted (Y/N)</th>\n",
       "      <th>Current Employment</th>\n",
       "    </tr>\n",
       "  </thead>\n",
       "  <tbody>\n",
       "    <tr>\n",
       "      <th>0</th>\n",
       "      <td>County</td>\n",
       "      <td>Alameda County</td>\n",
       "      <td>1990</td>\n",
       "      <td>Annual</td>\n",
       "      <td>0</td>\n",
       "      <td>Total Nonfarm</td>\n",
       "      <td>N</td>\n",
       "      <td>602800</td>\n",
       "    </tr>\n",
       "    <tr>\n",
       "      <th>1</th>\n",
       "      <td>County</td>\n",
       "      <td>Alameda County</td>\n",
       "      <td>1990</td>\n",
       "      <td>Annual</td>\n",
       "      <td>1000000</td>\n",
       "      <td>Total Wage and Salary</td>\n",
       "      <td>N</td>\n",
       "      <td>604200</td>\n",
       "    </tr>\n",
       "    <tr>\n",
       "      <th>2</th>\n",
       "      <td>County</td>\n",
       "      <td>Alameda County</td>\n",
       "      <td>1990</td>\n",
       "      <td>Annual</td>\n",
       "      <td>6000000</td>\n",
       "      <td>Goods Producing</td>\n",
       "      <td>N</td>\n",
       "      <td>110900</td>\n",
       "    </tr>\n",
       "    <tr>\n",
       "      <th>3</th>\n",
       "      <td>County</td>\n",
       "      <td>Alameda County</td>\n",
       "      <td>1990</td>\n",
       "      <td>Annual</td>\n",
       "      <td>7000000</td>\n",
       "      <td>Service Providing</td>\n",
       "      <td>N</td>\n",
       "      <td>491800</td>\n",
       "    </tr>\n",
       "    <tr>\n",
       "      <th>4</th>\n",
       "      <td>County</td>\n",
       "      <td>Alameda County</td>\n",
       "      <td>1990</td>\n",
       "      <td>Annual</td>\n",
       "      <td>11000000</td>\n",
       "      <td>Total Farm</td>\n",
       "      <td>N</td>\n",
       "      <td>1400</td>\n",
       "    </tr>\n",
       "    <tr>\n",
       "      <th>...</th>\n",
       "      <td>...</td>\n",
       "      <td>...</td>\n",
       "      <td>...</td>\n",
       "      <td>...</td>\n",
       "      <td>...</td>\n",
       "      <td>...</td>\n",
       "      <td>...</td>\n",
       "      <td>...</td>\n",
       "    </tr>\n",
       "    <tr>\n",
       "      <th>126760</th>\n",
       "      <td>State</td>\n",
       "      <td>California</td>\n",
       "      <td>2021</td>\n",
       "      <td>Annual</td>\n",
       "      <td>90932000</td>\n",
       "      <td>Local Government Excluding Education</td>\n",
       "      <td>N</td>\n",
       "      <td>793300</td>\n",
       "    </tr>\n",
       "    <tr>\n",
       "      <th>126761</th>\n",
       "      <td>State</td>\n",
       "      <td>California</td>\n",
       "      <td>2021</td>\n",
       "      <td>Annual</td>\n",
       "      <td>90939012</td>\n",
       "      <td>County</td>\n",
       "      <td>N</td>\n",
       "      <td>353300</td>\n",
       "    </tr>\n",
       "    <tr>\n",
       "      <th>126762</th>\n",
       "      <td>State</td>\n",
       "      <td>California</td>\n",
       "      <td>2021</td>\n",
       "      <td>Annual</td>\n",
       "      <td>90939022</td>\n",
       "      <td>City</td>\n",
       "      <td>N</td>\n",
       "      <td>254900</td>\n",
       "    </tr>\n",
       "    <tr>\n",
       "      <th>126763</th>\n",
       "      <td>State</td>\n",
       "      <td>California</td>\n",
       "      <td>2021</td>\n",
       "      <td>Annual</td>\n",
       "      <td>90939032</td>\n",
       "      <td>Special Districts</td>\n",
       "      <td>N</td>\n",
       "      <td>127600</td>\n",
       "    </tr>\n",
       "    <tr>\n",
       "      <th>126764</th>\n",
       "      <td>State</td>\n",
       "      <td>California</td>\n",
       "      <td>2021</td>\n",
       "      <td>Annual</td>\n",
       "      <td>90940000</td>\n",
       "      <td>State and Local Government</td>\n",
       "      <td>N</td>\n",
       "      <td>2218300</td>\n",
       "    </tr>\n",
       "  </tbody>\n",
       "</table>\n",
       "<p>126765 rows × 8 columns</p>\n",
       "</div>"
      ],
      "text/plain": [
       "       Area Type       Area Name  Year  Period  Series Code  \\\n",
       "0         County  Alameda County  1990  Annual            0   \n",
       "1         County  Alameda County  1990  Annual      1000000   \n",
       "2         County  Alameda County  1990  Annual      6000000   \n",
       "3         County  Alameda County  1990  Annual      7000000   \n",
       "4         County  Alameda County  1990  Annual     11000000   \n",
       "...          ...             ...   ...     ...          ...   \n",
       "126760     State      California  2021  Annual     90932000   \n",
       "126761     State      California  2021  Annual     90939012   \n",
       "126762     State      California  2021  Annual     90939022   \n",
       "126763     State      California  2021  Annual     90939032   \n",
       "126764     State      California  2021  Annual     90940000   \n",
       "\n",
       "                              Industry Title Seasonally Adjusted (Y/N)  \\\n",
       "0                              Total Nonfarm                         N   \n",
       "1                      Total Wage and Salary                         N   \n",
       "2                            Goods Producing                         N   \n",
       "3                          Service Providing                         N   \n",
       "4                                 Total Farm                         N   \n",
       "...                                      ...                       ...   \n",
       "126760  Local Government Excluding Education                         N   \n",
       "126761                                County                         N   \n",
       "126762                                  City                         N   \n",
       "126763                     Special Districts                         N   \n",
       "126764            State and Local Government                         N   \n",
       "\n",
       "        Current Employment  \n",
       "0                   602800  \n",
       "1                   604200  \n",
       "2                   110900  \n",
       "3                   491800  \n",
       "4                     1400  \n",
       "...                    ...  \n",
       "126760              793300  \n",
       "126761              353300  \n",
       "126762              254900  \n",
       "126763              127600  \n",
       "126764             2218300  \n",
       "\n",
       "[126765 rows x 8 columns]"
      ]
     },
     "execution_count": 2,
     "metadata": {},
     "output_type": "execute_result"
    }
   ],
   "source": [
    "avg_salary"
   ]
  },
  {
   "cell_type": "code",
   "execution_count": 3,
   "metadata": {},
   "outputs": [
    {
     "data": {
      "text/plain": [
       "(126765, 8)"
      ]
     },
     "execution_count": 3,
     "metadata": {},
     "output_type": "execute_result"
    }
   ],
   "source": [
    "avg_salary.shape"
   ]
  },
  {
   "cell_type": "markdown",
   "metadata": {},
   "source": [
    "### 2. Data Diversity\n",
    "\n",
    "Use Python to identify how many unique values each column in your data has.  Use Python to identify which column has the greatest number of distinct values (aka the most diversity)?  If your data has a unique identifier (e.g. a person or visit or record ID) then find the column with the next most number of unique values."
   ]
  },
  {
   "cell_type": "code",
   "execution_count": 40,
   "metadata": {},
   "outputs": [
    {
     "data": {
      "text/plain": [
       "Index(['Area Type', 'Area Name', 'Year', 'Period', 'Series Code',\n",
       "       'Industry Title', 'Seasonally Adjusted (Y/N)', 'Current Employment'],\n",
       "      dtype='object')"
      ]
     },
     "execution_count": 40,
     "metadata": {},
     "output_type": "execute_result"
    }
   ],
   "source": [
    "avg_salary.columns"
   ]
  },
  {
   "cell_type": "code",
   "execution_count": 45,
   "metadata": {},
   "outputs": [
    {
     "data": {
      "text/plain": [
       "Area Type          Area Name         Year  Period  Series Code  Industry Title                            Seasonally Adjusted (Y/N)  Current Employment\n",
       "State              California        2021  Annual  90940000     State and Local Government                N                          2218300               1\n",
       "County             San Diego County  2004  Annual  90932000     Local Government Excluding Education      N                          64600                 1\n",
       "                                                   90939012     County                                    N                          18900                 1\n",
       "                                                   90939022     City                                      N                          19900                 1\n",
       "                                                   90940000     State and Local Government                N                          174600                1\n",
       "                                                                                                                                                          ..\n",
       "Metropolitan Area  Napa MSA          1992  Annual  50000000     Information                               N                          700                   1\n",
       "                                                   55000000     Financial Activities                      N                          2300                  1\n",
       "                                                   60000000     Professional and Business Services        N                          3600                  1\n",
       "                                                   60560000     Administrative and Support and Waste Ser  N                          1300                  1\n",
       "County             Alameda County    1990  Annual  0            Total Nonfarm                             N                          602800                1\n",
       "Length: 126765, dtype: int64"
      ]
     },
     "execution_count": 45,
     "metadata": {},
     "output_type": "execute_result"
    }
   ],
   "source": [
    "avg_salary.value_counts()"
   ]
  },
  {
   "cell_type": "code",
   "execution_count": 46,
   "metadata": {},
   "outputs": [
    {
     "data": {
      "text/plain": [
       "600       813\n",
       "300       790\n",
       "700       780\n",
       "200       738\n",
       "1500      692\n",
       "         ... \n",
       "503700      1\n",
       "16230       1\n",
       "298800      1\n",
       "28460       1\n",
       "885200      1\n",
       "Name: Current Employment, Length: 7680, dtype: int64"
      ]
     },
     "execution_count": 46,
     "metadata": {},
     "output_type": "execute_result"
    }
   ],
   "source": [
    "avg_salary['Current Employment'].value_counts()"
   ]
  },
  {
   "cell_type": "code",
   "execution_count": 42,
   "metadata": {},
   "outputs": [
    {
     "data": {
      "text/plain": [
       "array([ 602800,  604200,  110900, ...,  793300,  353300, 2218300])"
      ]
     },
     "execution_count": 42,
     "metadata": {},
     "output_type": "execute_result"
    }
   ],
   "source": [
    "avg_salary['Current Employment'].unique()"
   ]
  },
  {
   "cell_type": "markdown",
   "metadata": {},
   "source": [
    "### 3. Data Redundancy\n",
    "\n",
    "Use Python to identify any columns in your data where the value for every row is the same.  For example, if you had a gender column and all the rows said 'M', then you would want to write the code that helped you determine that."
   ]
  },
  {
   "cell_type": "code",
   "execution_count": 6,
   "metadata": {},
   "outputs": [],
   "source": [
    "column = [column for column in avg_salary.columns if avg_salary[column].nunique()==1]"
   ]
  },
  {
   "cell_type": "code",
   "execution_count": 7,
   "metadata": {},
   "outputs": [
    {
     "data": {
      "text/plain": [
       "['Period', 'Seasonally Adjusted (Y/N)']"
      ]
     },
     "execution_count": 7,
     "metadata": {},
     "output_type": "execute_result"
    }
   ],
   "source": [
    "column"
   ]
  },
  {
   "cell_type": "markdown",
   "metadata": {},
   "source": [
    "### 4. Range of Values\n",
    "\n",
    "Your data almost certainly has some numeric columns that can be summed or averaged.  Create a histogram that shows the distribution of values for this column."
   ]
  },
  {
   "cell_type": "code",
   "execution_count": 28,
   "metadata": {},
   "outputs": [],
   "source": [
    "import matplotlib.pyplot as plt\n",
    "new_data = avg_salary.groupby('Year').agg({'Current Employment':'mean'})"
   ]
  },
  {
   "cell_type": "code",
   "execution_count": 33,
   "metadata": {},
   "outputs": [
    {
     "data": {
      "text/plain": [
       "array([[<matplotlib.axes._subplots.AxesSubplot object at 0x7f4c9c916160>]],\n",
       "      dtype=object)"
      ]
     },
     "execution_count": 33,
     "metadata": {},
     "output_type": "execute_result"
    },
    {
     "data": {
      "image/png": "[encoded data removed]",
      "text/plain": [
       "<Figure size 792x396 with 1 Axes>"
      ]
     },
     "metadata": {
      "needs_background": "light"
     },
     "output_type": "display_data"
    }
   ],
   "source": [
    "new_data.hist(figsize=(11,5.5))"
   ]
  },
  {
   "cell_type": "code",
   "execution_count": 44,
   "metadata": {},
   "outputs": [
    {
     "data": {
      "text/plain": [
       "<matplotlib.axes._subplots.AxesSubplot at 0x7f4c998b8fd0>"
      ]
     },
     "execution_count": 44,
     "metadata": {},
     "output_type": "execute_result"
    },
    {
     "data": {
      "image/png": "[encoded data removed]",
      "text/plain": [
       "<Figure size 432x288 with 1 Axes>"
      ]
     },
     "metadata": {
      "needs_background": "light"
     },
     "output_type": "display_data"
    }
   ],
   "source": [
    "import matplotlib.pyplot as plt\n",
    "avg_salary['Year'].hist()"
   ]
  },
  {
   "cell_type": "markdown",
   "metadata": {},
   "source": [
    "### 5. Discussion\n",
    "\n",
    "Do any additional exploration of this data that you think may be interesting and include your code here.  Then go onto Slack and make a post about what you've observed.  Share your observation.  Share your code, if you like.  Share a screenshot of the data or a chart based on the data.\n",
    "\n",
    "Then comment on at least two other people's observations that they share on Slack.  (Use the reply as thread option in Slack to keep the conversation organized.)"
   ]
  },
  {
   "cell_type": "code",
   "execution_count": 26,
   "metadata": {},
   "outputs": [],
   "source": [
    "new_data = avg_salary.groupby('Year').agg({'Current Employment':'mean'})"
   ]
  },
  {
   "cell_type": "code",
   "execution_count": 27,
   "metadata": {},
   "outputs": [
    {
     "data": {
      "text/html": [
       "<div>\n",
       "<style scoped>\n",
       "    .dataframe tbody tr th:only-of-type {\n",
       "        vertical-align: middle;\n",
       "    }\n",
       "\n",
       "    .dataframe tbody tr th {\n",
       "        vertical-align: top;\n",
       "    }\n",
       "\n",
       "    .dataframe thead th {\n",
       "        text-align: right;\n",
       "    }\n",
       "</style>\n",
       "<table border=\"1\" class=\"dataframe\">\n",
       "  <thead>\n",
       "    <tr style=\"text-align: right;\">\n",
       "      <th></th>\n",
       "      <th>Current Employment</th>\n",
       "    </tr>\n",
       "    <tr>\n",
       "      <th>Year</th>\n",
       "      <th></th>\n",
       "    </tr>\n",
       "  </thead>\n",
       "  <tbody>\n",
       "    <tr>\n",
       "      <th>1990</th>\n",
       "      <td>72602.401646</td>\n",
       "    </tr>\n",
       "    <tr>\n",
       "      <th>1991</th>\n",
       "      <td>71861.835948</td>\n",
       "    </tr>\n",
       "    <tr>\n",
       "      <th>1992</th>\n",
       "      <td>69310.904269</td>\n",
       "    </tr>\n",
       "    <tr>\n",
       "      <th>1993</th>\n",
       "      <td>68646.601060</td>\n",
       "    </tr>\n",
       "    <tr>\n",
       "      <th>1994</th>\n",
       "      <td>69139.197578</td>\n",
       "    </tr>\n",
       "    <tr>\n",
       "      <th>1995</th>\n",
       "      <td>70573.305577</td>\n",
       "    </tr>\n",
       "    <tr>\n",
       "      <th>1996</th>\n",
       "      <td>72337.706283</td>\n",
       "    </tr>\n",
       "    <tr>\n",
       "      <th>1997</th>\n",
       "      <td>74636.227605</td>\n",
       "    </tr>\n",
       "    <tr>\n",
       "      <th>1998</th>\n",
       "      <td>77226.742367</td>\n",
       "    </tr>\n",
       "    <tr>\n",
       "      <th>1999</th>\n",
       "      <td>79407.070401</td>\n",
       "    </tr>\n",
       "    <tr>\n",
       "      <th>2000</th>\n",
       "      <td>81919.782993</td>\n",
       "    </tr>\n",
       "    <tr>\n",
       "      <th>2001</th>\n",
       "      <td>82709.321221</td>\n",
       "    </tr>\n",
       "    <tr>\n",
       "      <th>2002</th>\n",
       "      <td>82090.219531</td>\n",
       "    </tr>\n",
       "    <tr>\n",
       "      <th>2003</th>\n",
       "      <td>82123.267726</td>\n",
       "    </tr>\n",
       "    <tr>\n",
       "      <th>2004</th>\n",
       "      <td>83198.059551</td>\n",
       "    </tr>\n",
       "    <tr>\n",
       "      <th>2005</th>\n",
       "      <td>84832.580727</td>\n",
       "    </tr>\n",
       "    <tr>\n",
       "      <th>2006</th>\n",
       "      <td>86575.486882</td>\n",
       "    </tr>\n",
       "    <tr>\n",
       "      <th>2007</th>\n",
       "      <td>87362.848133</td>\n",
       "    </tr>\n",
       "    <tr>\n",
       "      <th>2008</th>\n",
       "      <td>86440.971241</td>\n",
       "    </tr>\n",
       "    <tr>\n",
       "      <th>2009</th>\n",
       "      <td>81651.803734</td>\n",
       "    </tr>\n",
       "    <tr>\n",
       "      <th>2010</th>\n",
       "      <td>80622.505666</td>\n",
       "    </tr>\n",
       "    <tr>\n",
       "      <th>2011</th>\n",
       "      <td>81401.785444</td>\n",
       "    </tr>\n",
       "    <tr>\n",
       "      <th>2012</th>\n",
       "      <td>83492.472929</td>\n",
       "    </tr>\n",
       "    <tr>\n",
       "      <th>2013</th>\n",
       "      <td>85794.479980</td>\n",
       "    </tr>\n",
       "    <tr>\n",
       "      <th>2014</th>\n",
       "      <td>88119.141274</td>\n",
       "    </tr>\n",
       "    <tr>\n",
       "      <th>2015</th>\n",
       "      <td>90805.237975</td>\n",
       "    </tr>\n",
       "    <tr>\n",
       "      <th>2016</th>\n",
       "      <td>93313.094938</td>\n",
       "    </tr>\n",
       "    <tr>\n",
       "      <th>2017</th>\n",
       "      <td>95206.308235</td>\n",
       "    </tr>\n",
       "    <tr>\n",
       "      <th>2018</th>\n",
       "      <td>97150.904054</td>\n",
       "    </tr>\n",
       "    <tr>\n",
       "      <th>2019</th>\n",
       "      <td>98678.055905</td>\n",
       "    </tr>\n",
       "    <tr>\n",
       "      <th>2020</th>\n",
       "      <td>91162.211030</td>\n",
       "    </tr>\n",
       "    <tr>\n",
       "      <th>2021</th>\n",
       "      <td>94437.922438</td>\n",
       "    </tr>\n",
       "  </tbody>\n",
       "</table>\n",
       "</div>"
      ],
      "text/plain": [
       "      Current Employment\n",
       "Year                    \n",
       "1990        72602.401646\n",
       "1991        71861.835948\n",
       "1992        69310.904269\n",
       "1993        68646.601060\n",
       "1994        69139.197578\n",
       "1995        70573.305577\n",
       "1996        72337.706283\n",
       "1997        74636.227605\n",
       "1998        77226.742367\n",
       "1999        79407.070401\n",
       "2000        81919.782993\n",
       "2001        82709.321221\n",
       "2002        82090.219531\n",
       "2003        82123.267726\n",
       "2004        83198.059551\n",
       "2005        84832.580727\n",
       "2006        86575.486882\n",
       "2007        87362.848133\n",
       "2008        86440.971241\n",
       "2009        81651.803734\n",
       "2010        80622.505666\n",
       "2011        81401.785444\n",
       "2012        83492.472929\n",
       "2013        85794.479980\n",
       "2014        88119.141274\n",
       "2015        90805.237975\n",
       "2016        93313.094938\n",
       "2017        95206.308235\n",
       "2018        97150.904054\n",
       "2019        98678.055905\n",
       "2020        91162.211030\n",
       "2021        94437.922438"
      ]
     },
     "execution_count": 27,
     "metadata": {},
     "output_type": "execute_result"
    }
   ],
   "source": [
    "new_data"
   ]
  },
  {
   "cell_type": "markdown",
   "metadata": {},
   "source": [
    "\n",
    "\n",
    "---\n",
    "\n",
    "\n",
    "\n",
    "## Submitting Your Work\n",
    "\n",
    "Submit your work as usual."
   ]
  },
  {
   "cell_type": "code",
   "execution_count": null,
   "metadata": {},
   "outputs": [],
   "source": []
  }
 ],
 "metadata": {
  "celltoolbar": "Create Assignment",
  "kernelspec": {
   "display_name": "Python 3",
   "language": "python",
   "name": "python3"
  },
  "language_info": {
   "codemirror_mode": {
    "name": "ipython",
    "version": 3
   },
   "file_extension": ".py",
   "mimetype": "text/x-python",
   "name": "python",
   "nbconvert_exporter": "python",
   "pygments_lexer": "ipython3",
   "version": "3.6.7"
  }
 },
 "nbformat": 4,
 "nbformat_minor": 2
}
