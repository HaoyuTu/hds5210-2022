{
 "cells": [
  {
   "cell_type": "markdown",
   "metadata": {},
   "source": [
    "# <center>Final Project</center> \n",
    "#### <center>The Relationship between policy factors and population change in Taiwan</center> "
   ]
  },
  {
   "cell_type": "markdown",
   "metadata": {},
   "source": [
    "# 1. Summary"
   ]
  },
  {
   "cell_type": "markdown",
   "metadata": {},
   "source": [
    "This topic is about my country Taiwan, as a Taiwanese in fact we know that the working environment in Taiwan is not good in recent years. But the policy of Taiwan government is to improve the overall economic environment of Taiwan, and make everyone has a better living condition. Let's see if the overall situation is really better or not. I will use the last four years of salary change, population change, and housing price/income ratio to see if people in Taiwan are getting better or if more people want to leave the country."
   ]
  },
  {
   "cell_type": "markdown",
   "metadata": {},
   "source": [
    "# 2. Salary changes"
   ]
  },
  {
   "cell_type": "markdown",
   "metadata": {},
   "source": [
    "First of all, I will compare the salary change of people in Taiwan from 2018 to 2021, in which there are many different types of jobs. But I will only pick two of the industries that most people in Taiwan are currently working in to analyze, I think it is more valuable to choose the type of jobs that most people are working in."
   ]
  },
  {
   "cell_type": "code",
   "execution_count": 1,
   "metadata": {},
   "outputs": [],
   "source": [
    "import pandas as pd\n",
    "# This is Taiwan salary for different industries from 2018 to 2021\n",
    "tw_sal_2021 = pd.read_excel('tw_salary_2021.xlsx',thousands=\",\")\n",
    "tw_sal_2020 = pd.read_excel('tw_salary_2020.xlsx',thousands=\",\")\n",
    "tw_sal_2019 = pd.read_excel('tw_salary_2019.xlsx',thousands=\",\")\n",
    "tw_sal_2018 = pd.read_excel('tw_salary_2018.xlsx',thousands=\",\")"
   ]
  },
  {
   "cell_type": "code",
   "execution_count": 2,
   "metadata": {},
   "outputs": [
    {
     "data": {
      "text/html": [
       "<div>\n",
       "<style scoped>\n",
       "    .dataframe tbody tr th:only-of-type {\n",
       "        vertical-align: middle;\n",
       "    }\n",
       "\n",
       "    .dataframe tbody tr th {\n",
       "        vertical-align: top;\n",
       "    }\n",
       "\n",
       "    .dataframe thead th {\n",
       "        text-align: right;\n",
       "    }\n",
       "</style>\n",
       "<table border=\"1\" class=\"dataframe\">\n",
       "  <thead>\n",
       "    <tr style=\"text-align: right;\">\n",
       "      <th></th>\n",
       "      <th>工作類型</th>\n",
       "      <th>工業及服務業</th>\n",
       "      <th>工業</th>\n",
       "      <th>礦業及土石採取業</th>\n",
       "      <th>製造業</th>\n",
       "      <th>電力及燃氣供應業</th>\n",
       "      <th>用水供應及污染整治業</th>\n",
       "      <th>營建工程業</th>\n",
       "      <th>服務業</th>\n",
       "      <th>批發及零售業</th>\n",
       "      <th>...</th>\n",
       "      <th>住宿及餐飲業</th>\n",
       "      <th>出版、影音製作、傳播及資通訊服務業</th>\n",
       "      <th>金融及保險業</th>\n",
       "      <th>不動產業</th>\n",
       "      <th>專業、科學及技術服務業</th>\n",
       "      <th>支援服務業</th>\n",
       "      <th>教育業</th>\n",
       "      <th>醫療保健及社會工作服務業</th>\n",
       "      <th>藝術、娛樂及休閒服務業</th>\n",
       "      <th>其他服務業</th>\n",
       "    </tr>\n",
       "  </thead>\n",
       "  <tbody>\n",
       "    <tr>\n",
       "      <th>0</th>\n",
       "      <td>(100000)主管及監督人員</td>\n",
       "      <td>108779</td>\n",
       "      <td>148274</td>\n",
       "      <td>82191</td>\n",
       "      <td>156134</td>\n",
       "      <td>168994</td>\n",
       "      <td>87347</td>\n",
       "      <td>90553</td>\n",
       "      <td>89410</td>\n",
       "      <td>83779</td>\n",
       "      <td>...</td>\n",
       "      <td>49195</td>\n",
       "      <td>111528</td>\n",
       "      <td>153945</td>\n",
       "      <td>87755</td>\n",
       "      <td>102129</td>\n",
       "      <td>61146</td>\n",
       "      <td>46975</td>\n",
       "      <td>106178</td>\n",
       "      <td>56416</td>\n",
       "      <td>52591</td>\n",
       "    </tr>\n",
       "    <tr>\n",
       "      <th>1</th>\n",
       "      <td>(200000)專業人員</td>\n",
       "      <td>79670</td>\n",
       "      <td>113287</td>\n",
       "      <td>62034</td>\n",
       "      <td>118107</td>\n",
       "      <td>112147</td>\n",
       "      <td>70704</td>\n",
       "      <td>65781</td>\n",
       "      <td>65006</td>\n",
       "      <td>60243</td>\n",
       "      <td>...</td>\n",
       "      <td>50252</td>\n",
       "      <td>76637</td>\n",
       "      <td>93625</td>\n",
       "      <td>62087</td>\n",
       "      <td>67114</td>\n",
       "      <td>48240</td>\n",
       "      <td>27523</td>\n",
       "      <td>67664</td>\n",
       "      <td>38710</td>\n",
       "      <td>48699</td>\n",
       "    </tr>\n",
       "    <tr>\n",
       "      <th>2</th>\n",
       "      <td>(300000)技術員及助理專業人員</td>\n",
       "      <td>56905</td>\n",
       "      <td>61017</td>\n",
       "      <td>60228</td>\n",
       "      <td>62780</td>\n",
       "      <td>79660</td>\n",
       "      <td>46030</td>\n",
       "      <td>48179</td>\n",
       "      <td>54196</td>\n",
       "      <td>48060</td>\n",
       "      <td>...</td>\n",
       "      <td>44177</td>\n",
       "      <td>69855</td>\n",
       "      <td>70227</td>\n",
       "      <td>44584</td>\n",
       "      <td>46569</td>\n",
       "      <td>44574</td>\n",
       "      <td>31980</td>\n",
       "      <td>37679</td>\n",
       "      <td>38541</td>\n",
       "      <td>39732</td>\n",
       "    </tr>\n",
       "    <tr>\n",
       "      <th>3</th>\n",
       "      <td>(400000)事務支援人員</td>\n",
       "      <td>43097</td>\n",
       "      <td>41901</td>\n",
       "      <td>36430</td>\n",
       "      <td>42087</td>\n",
       "      <td>87691</td>\n",
       "      <td>39208</td>\n",
       "      <td>35784</td>\n",
       "      <td>43513</td>\n",
       "      <td>35945</td>\n",
       "      <td>...</td>\n",
       "      <td>31548</td>\n",
       "      <td>45657</td>\n",
       "      <td>62784</td>\n",
       "      <td>36611</td>\n",
       "      <td>36503</td>\n",
       "      <td>37579</td>\n",
       "      <td>25393</td>\n",
       "      <td>30798</td>\n",
       "      <td>29875</td>\n",
       "      <td>30076</td>\n",
       "    </tr>\n",
       "    <tr>\n",
       "      <th>4</th>\n",
       "      <td>(500000)服務及銷售工作人員</td>\n",
       "      <td>31039</td>\n",
       "      <td>40711</td>\n",
       "      <td>57551</td>\n",
       "      <td>40805</td>\n",
       "      <td>62512</td>\n",
       "      <td>50161</td>\n",
       "      <td>32300</td>\n",
       "      <td>30778</td>\n",
       "      <td>32133</td>\n",
       "      <td>...</td>\n",
       "      <td>27203</td>\n",
       "      <td>47945</td>\n",
       "      <td>71978</td>\n",
       "      <td>37063</td>\n",
       "      <td>33487</td>\n",
       "      <td>33616</td>\n",
       "      <td>26390</td>\n",
       "      <td>27692</td>\n",
       "      <td>26686</td>\n",
       "      <td>25421</td>\n",
       "    </tr>\n",
       "    <tr>\n",
       "      <th>5</th>\n",
       "      <td>(700000)技藝、機械設備操作及組裝人員</td>\n",
       "      <td>43949</td>\n",
       "      <td>44654</td>\n",
       "      <td>47609</td>\n",
       "      <td>44990</td>\n",
       "      <td>108843</td>\n",
       "      <td>41002</td>\n",
       "      <td>39723</td>\n",
       "      <td>40917</td>\n",
       "      <td>37323</td>\n",
       "      <td>...</td>\n",
       "      <td>36350</td>\n",
       "      <td>81678</td>\n",
       "      <td>105544</td>\n",
       "      <td>52481</td>\n",
       "      <td>38420</td>\n",
       "      <td>39416</td>\n",
       "      <td>24391</td>\n",
       "      <td>37945</td>\n",
       "      <td>33719</td>\n",
       "      <td>31508</td>\n",
       "    </tr>\n",
       "    <tr>\n",
       "      <th>6</th>\n",
       "      <td>(900000)基層技術工及勞力工</td>\n",
       "      <td>30408</td>\n",
       "      <td>32694</td>\n",
       "      <td>24828</td>\n",
       "      <td>34335</td>\n",
       "      <td>36991</td>\n",
       "      <td>27797</td>\n",
       "      <td>31552</td>\n",
       "      <td>29370</td>\n",
       "      <td>29566</td>\n",
       "      <td>...</td>\n",
       "      <td>23683</td>\n",
       "      <td>20430</td>\n",
       "      <td>65172</td>\n",
       "      <td>23970</td>\n",
       "      <td>23268</td>\n",
       "      <td>29631</td>\n",
       "      <td>21012</td>\n",
       "      <td>27952</td>\n",
       "      <td>24352</td>\n",
       "      <td>26153</td>\n",
       "    </tr>\n",
       "  </tbody>\n",
       "</table>\n",
       "<p>7 rows × 21 columns</p>\n",
       "</div>"
      ],
      "text/plain": [
       "                     工作類型  工業及服務業      工業  礦業及土石採取業     製造業  電力及燃氣供應業  \\\n",
       "0         (100000)主管及監督人員  108779  148274     82191  156134    168994   \n",
       "1            (200000)專業人員   79670  113287     62034  118107    112147   \n",
       "2      (300000)技術員及助理專業人員   56905   61017     60228   62780     79660   \n",
       "3          (400000)事務支援人員   43097   41901     36430   42087     87691   \n",
       "4       (500000)服務及銷售工作人員   31039   40711     57551   40805     62512   \n",
       "5  (700000)技藝、機械設備操作及組裝人員   43949   44654     47609   44990    108843   \n",
       "6       (900000)基層技術工及勞力工   30408   32694     24828   34335     36991   \n",
       "\n",
       "   用水供應及污染整治業  營建工程業    服務業  批發及零售業  ...  住宿及餐飲業  出版、影音製作、傳播及資通訊服務業  金融及保險業  \\\n",
       "0       87347  90553  89410   83779  ...   49195             111528  153945   \n",
       "1       70704  65781  65006   60243  ...   50252              76637   93625   \n",
       "2       46030  48179  54196   48060  ...   44177              69855   70227   \n",
       "3       39208  35784  43513   35945  ...   31548              45657   62784   \n",
       "4       50161  32300  30778   32133  ...   27203              47945   71978   \n",
       "5       41002  39723  40917   37323  ...   36350              81678  105544   \n",
       "6       27797  31552  29370   29566  ...   23683              20430   65172   \n",
       "\n",
       "    不動產業  專業、科學及技術服務業  支援服務業    教育業  醫療保健及社會工作服務業  藝術、娛樂及休閒服務業  其他服務業  \n",
       "0  87755       102129  61146  46975        106178        56416  52591  \n",
       "1  62087        67114  48240  27523         67664        38710  48699  \n",
       "2  44584        46569  44574  31980         37679        38541  39732  \n",
       "3  36611        36503  37579  25393         30798        29875  30076  \n",
       "4  37063        33487  33616  26390         27692        26686  25421  \n",
       "5  52481        38420  39416  24391         37945        33719  31508  \n",
       "6  23970        23268  29631  21012         27952        24352  26153  \n",
       "\n",
       "[7 rows x 21 columns]"
      ]
     },
     "execution_count": 2,
     "metadata": {},
     "output_type": "execute_result"
    }
   ],
   "source": [
    "#This is the original dataframe, columns are different types of jobs, and rows are different positions in the workplace\n",
    "#The figure is the amount in Taiwan dollars(TWD), current exchange rate is 1 USD = 30.77 TWD\n",
    "tw_sal_2021"
   ]
  },
  {
   "cell_type": "code",
   "execution_count": 3,
   "metadata": {},
   "outputs": [],
   "source": [
    "# Select the average salary for two types of jobs : 1. Industrial('工業') 2. Service industry ('服務業')\n",
    "# Currently, these two types of jobs account for the largest number of people in Taiwan.\n",
    "tw_sal_2021['year'] = '2021'\n",
    "ntw_sal_2021 = tw_sal_2021.groupby('year').agg({'工業':'mean','服務業':'mean'})\n",
    "tw_sal_2020['year'] = '2020'\n",
    "ntw_sal_2020 = tw_sal_2020.groupby('year').agg({'工業':'mean','服務業':'mean'})\n",
    "tw_sal_2019['year'] = '2019'\n",
    "ntw_sal_2019 = tw_sal_2019.groupby('year').agg({'工業':'mean','服務業':'mean'})\n",
    "tw_sal_2018['year'] = '2018'\n",
    "ntw_sal_2018 = tw_sal_2018.groupby('year').agg({'工業':'mean','服務業':'mean'})\n",
    "\n",
    "#Combine the salary averages of four different years into one table\n",
    "years = [ntw_sal_2018, ntw_sal_2019, ntw_sal_2020, ntw_sal_2021]\n",
    "tw_avg_sal = pd.concat(years)"
   ]
  },
  {
   "cell_type": "code",
   "execution_count": 4,
   "metadata": {},
   "outputs": [
    {
     "data": {
      "text/html": [
       "<div>\n",
       "<style scoped>\n",
       "    .dataframe tbody tr th:only-of-type {\n",
       "        vertical-align: middle;\n",
       "    }\n",
       "\n",
       "    .dataframe tbody tr th {\n",
       "        vertical-align: top;\n",
       "    }\n",
       "\n",
       "    .dataframe thead th {\n",
       "        text-align: right;\n",
       "    }\n",
       "</style>\n",
       "<table border=\"1\" class=\"dataframe\">\n",
       "  <thead>\n",
       "    <tr style=\"text-align: right;\">\n",
       "      <th></th>\n",
       "      <th>工業</th>\n",
       "      <th>服務業</th>\n",
       "    </tr>\n",
       "    <tr>\n",
       "      <th>year</th>\n",
       "      <th></th>\n",
       "      <th></th>\n",
       "    </tr>\n",
       "  </thead>\n",
       "  <tbody>\n",
       "    <tr>\n",
       "      <th>2018</th>\n",
       "      <td>62259.714286</td>\n",
       "      <td>48413.428571</td>\n",
       "    </tr>\n",
       "    <tr>\n",
       "      <th>2019</th>\n",
       "      <td>66005.428571</td>\n",
       "      <td>49716.285714</td>\n",
       "    </tr>\n",
       "    <tr>\n",
       "      <th>2020</th>\n",
       "      <td>64596.857143</td>\n",
       "      <td>52946.428571</td>\n",
       "    </tr>\n",
       "    <tr>\n",
       "      <th>2021</th>\n",
       "      <td>68934.000000</td>\n",
       "      <td>50455.714286</td>\n",
       "    </tr>\n",
       "  </tbody>\n",
       "</table>\n",
       "</div>"
      ],
      "text/plain": [
       "                工業           服務業\n",
       "year                            \n",
       "2018  62259.714286  48413.428571\n",
       "2019  66005.428571  49716.285714\n",
       "2020  64596.857143  52946.428571\n",
       "2021  68934.000000  50455.714286"
      ]
     },
     "execution_count": 4,
     "metadata": {},
     "output_type": "execute_result"
    }
   ],
   "source": [
    "# 工業 = Industrial, 服務業 = Service industry\n",
    "tw_avg_sal"
   ]
  },
  {
   "cell_type": "code",
   "execution_count": 5,
   "metadata": {},
   "outputs": [
    {
     "data": {
      "text/html": [
       "<div>\n",
       "<style scoped>\n",
       "    .dataframe tbody tr th:only-of-type {\n",
       "        vertical-align: middle;\n",
       "    }\n",
       "\n",
       "    .dataframe tbody tr th {\n",
       "        vertical-align: top;\n",
       "    }\n",
       "\n",
       "    .dataframe thead th {\n",
       "        text-align: right;\n",
       "    }\n",
       "</style>\n",
       "<table border=\"1\" class=\"dataframe\">\n",
       "  <thead>\n",
       "    <tr style=\"text-align: right;\">\n",
       "      <th></th>\n",
       "      <th>工業</th>\n",
       "      <th>服務業</th>\n",
       "      <th>gap_工業</th>\n",
       "      <th>gap_服務業</th>\n",
       "    </tr>\n",
       "    <tr>\n",
       "      <th>year</th>\n",
       "      <th></th>\n",
       "      <th></th>\n",
       "      <th></th>\n",
       "      <th></th>\n",
       "    </tr>\n",
       "  </thead>\n",
       "  <tbody>\n",
       "    <tr>\n",
       "      <th>2018</th>\n",
       "      <td>62259.714286</td>\n",
       "      <td>48413.428571</td>\n",
       "      <td>NaN</td>\n",
       "      <td>NaN</td>\n",
       "    </tr>\n",
       "    <tr>\n",
       "      <th>2019</th>\n",
       "      <td>66005.428571</td>\n",
       "      <td>49716.285714</td>\n",
       "      <td>3745.714286</td>\n",
       "      <td>1302.857143</td>\n",
       "    </tr>\n",
       "    <tr>\n",
       "      <th>2020</th>\n",
       "      <td>64596.857143</td>\n",
       "      <td>52946.428571</td>\n",
       "      <td>-1408.571429</td>\n",
       "      <td>3230.142857</td>\n",
       "    </tr>\n",
       "    <tr>\n",
       "      <th>2021</th>\n",
       "      <td>68934.000000</td>\n",
       "      <td>50455.714286</td>\n",
       "      <td>4337.142857</td>\n",
       "      <td>-2490.714286</td>\n",
       "    </tr>\n",
       "  </tbody>\n",
       "</table>\n",
       "</div>"
      ],
      "text/plain": [
       "                工業           服務業       gap_工業      gap_服務業\n",
       "year                                                      \n",
       "2018  62259.714286  48413.428571          NaN          NaN\n",
       "2019  66005.428571  49716.285714  3745.714286  1302.857143\n",
       "2020  64596.857143  52946.428571 -1408.571429  3230.142857\n",
       "2021  68934.000000  50455.714286  4337.142857 -2490.714286"
      ]
     },
     "execution_count": 5,
     "metadata": {},
     "output_type": "execute_result"
    }
   ],
   "source": [
    "#Observe if the data has increased\n",
    "\n",
    "tw_avg_sal.assign(gap_工業=tw_avg_sal.工業.diff(1)).assign(gap_服務業=tw_avg_sal.服務業.diff(1))"
   ]
  },
  {
   "cell_type": "code",
   "execution_count": 6,
   "metadata": {},
   "outputs": [
    {
     "data": {
      "text/html": [
       "<div>\n",
       "<style scoped>\n",
       "    .dataframe tbody tr th:only-of-type {\n",
       "        vertical-align: middle;\n",
       "    }\n",
       "\n",
       "    .dataframe tbody tr th {\n",
       "        vertical-align: top;\n",
       "    }\n",
       "\n",
       "    .dataframe thead th {\n",
       "        text-align: right;\n",
       "    }\n",
       "</style>\n",
       "<table border=\"1\" class=\"dataframe\">\n",
       "  <thead>\n",
       "    <tr style=\"text-align: right;\">\n",
       "      <th></th>\n",
       "      <th>工業</th>\n",
       "      <th>服務業</th>\n",
       "      <th>gap_工業</th>\n",
       "      <th>gap_服務業</th>\n",
       "    </tr>\n",
       "    <tr>\n",
       "      <th>year</th>\n",
       "      <th></th>\n",
       "      <th></th>\n",
       "      <th></th>\n",
       "      <th></th>\n",
       "    </tr>\n",
       "  </thead>\n",
       "  <tbody>\n",
       "    <tr>\n",
       "      <th>2018</th>\n",
       "      <td>62259.714286</td>\n",
       "      <td>48413.428571</td>\n",
       "      <td>False</td>\n",
       "      <td>False</td>\n",
       "    </tr>\n",
       "    <tr>\n",
       "      <th>2019</th>\n",
       "      <td>66005.428571</td>\n",
       "      <td>49716.285714</td>\n",
       "      <td>True</td>\n",
       "      <td>True</td>\n",
       "    </tr>\n",
       "    <tr>\n",
       "      <th>2020</th>\n",
       "      <td>64596.857143</td>\n",
       "      <td>52946.428571</td>\n",
       "      <td>False</td>\n",
       "      <td>True</td>\n",
       "    </tr>\n",
       "    <tr>\n",
       "      <th>2021</th>\n",
       "      <td>68934.000000</td>\n",
       "      <td>50455.714286</td>\n",
       "      <td>True</td>\n",
       "      <td>False</td>\n",
       "    </tr>\n",
       "  </tbody>\n",
       "</table>\n",
       "</div>"
      ],
      "text/plain": [
       "                工業           服務業  gap_工業  gap_服務業\n",
       "year                                             \n",
       "2018  62259.714286  48413.428571   False    False\n",
       "2019  66005.428571  49716.285714    True     True\n",
       "2020  64596.857143  52946.428571   False     True\n",
       "2021  68934.000000  50455.714286    True    False"
      ]
     },
     "execution_count": 6,
     "metadata": {},
     "output_type": "execute_result"
    }
   ],
   "source": [
    "#Use true or false to identify if the salary is increasing every year\n",
    "\n",
    "tw_avg_sal.assign(gap_工業=tw_avg_sal.工業.diff(1).fillna(0)>0).assign(gap_服務業=tw_avg_sal.服務業.diff(1).fillna(0)>0)"
   ]
  },
  {
   "cell_type": "code",
   "execution_count": 7,
   "metadata": {},
   "outputs": [],
   "source": [
    "#Change the columns name\n",
    "tw_avg_sal.columns = ['Industrial','Ser_Industry']"
   ]
  },
  {
   "cell_type": "code",
   "execution_count": 8,
   "metadata": {},
   "outputs": [
    {
     "data": {
      "text/html": [
       "<div>\n",
       "<style scoped>\n",
       "    .dataframe tbody tr th:only-of-type {\n",
       "        vertical-align: middle;\n",
       "    }\n",
       "\n",
       "    .dataframe tbody tr th {\n",
       "        vertical-align: top;\n",
       "    }\n",
       "\n",
       "    .dataframe thead th {\n",
       "        text-align: right;\n",
       "    }\n",
       "</style>\n",
       "<table border=\"1\" class=\"dataframe\">\n",
       "  <thead>\n",
       "    <tr style=\"text-align: right;\">\n",
       "      <th></th>\n",
       "      <th>Industrial</th>\n",
       "      <th>Ser_Industry</th>\n",
       "    </tr>\n",
       "    <tr>\n",
       "      <th>year</th>\n",
       "      <th></th>\n",
       "      <th></th>\n",
       "    </tr>\n",
       "  </thead>\n",
       "  <tbody>\n",
       "    <tr>\n",
       "      <th>2018</th>\n",
       "      <td>62259.714286</td>\n",
       "      <td>48413.428571</td>\n",
       "    </tr>\n",
       "    <tr>\n",
       "      <th>2019</th>\n",
       "      <td>66005.428571</td>\n",
       "      <td>49716.285714</td>\n",
       "    </tr>\n",
       "    <tr>\n",
       "      <th>2020</th>\n",
       "      <td>64596.857143</td>\n",
       "      <td>52946.428571</td>\n",
       "    </tr>\n",
       "    <tr>\n",
       "      <th>2021</th>\n",
       "      <td>68934.000000</td>\n",
       "      <td>50455.714286</td>\n",
       "    </tr>\n",
       "  </tbody>\n",
       "</table>\n",
       "</div>"
      ],
      "text/plain": [
       "        Industrial  Ser_Industry\n",
       "year                            \n",
       "2018  62259.714286  48413.428571\n",
       "2019  66005.428571  49716.285714\n",
       "2020  64596.857143  52946.428571\n",
       "2021  68934.000000  50455.714286"
      ]
     },
     "execution_count": 8,
     "metadata": {},
     "output_type": "execute_result"
    }
   ],
   "source": [
    "tw_avg_sal"
   ]
  },
  {
   "cell_type": "code",
   "execution_count": 9,
   "metadata": {},
   "outputs": [
    {
     "data": {
      "text/plain": [
       "<matplotlib.axes._subplots.AxesSubplot at 0x7f5b89a7c3c8>"
      ]
     },
     "execution_count": 9,
     "metadata": {},
     "output_type": "execute_result"
    },
    {
     "data": {
      "image/png": "[encoded data removed]",
      "text/plain": [
       "<Figure size 504x504 with 1 Axes>"
      ]
     },
     "metadata": {
      "needs_background": "light"
     },
     "output_type": "display_data"
    }
   ],
   "source": [
    "%matplotlib inline\n",
    "tw_avg_sal.plot.line(figsize=(7, 7))"
   ]
  },
  {
   "cell_type": "markdown",
   "metadata": {},
   "source": [
    "The chart above shows the decline in industry and the rise in services by 2020. This is because the pandemic officially breaks out in Taiwan in 2020, causing many manufacturing plants to close down. The increase in the service industry is due to the overall increase in demand during the pandemic in the medical and delivery platforms as well as the insurance and transportation sectors among the service sector. The most interesting part is that the opposite is true for the industrial and service sectors in 2021. The reason for this is that the Taiwanese government has been helping the industrial sectors and the industry has been revitalized with financial assistance in a short period of time. The service industry, on the other hand, has seen a drop in revenue because of the restrictions on entry and exit in Taiwan for almost a full year."
   ]
  },
  {
   "cell_type": "markdown",
   "metadata": {},
   "source": [
    "# 3. Population changes"
   ]
  },
  {
   "cell_type": "markdown",
   "metadata": {},
   "source": [
    "In the second part I will use the population data of Taiwan for the last five years, in which I want to know if the population of Taiwan has increased or decreased.As a result, in this data I want to know the change of population growth rate and social growth rate in these years"
   ]
  },
  {
   "cell_type": "code",
   "execution_count": 10,
   "metadata": {},
   "outputs": [],
   "source": [
    "# Set the column '項目' as index\n",
    "popul = pd.read_csv('population2017-2022.csv', index_col = '項目')"
   ]
  },
  {
   "cell_type": "code",
   "execution_count": 27,
   "metadata": {},
   "outputs": [
    {
     "data": {
      "text/html": [
       "<div>\n",
       "<style scoped>\n",
       "    .dataframe tbody tr th:only-of-type {\n",
       "        vertical-align: middle;\n",
       "    }\n",
       "\n",
       "    .dataframe tbody tr th {\n",
       "        vertical-align: top;\n",
       "    }\n",
       "\n",
       "    .dataframe thead th {\n",
       "        text-align: right;\n",
       "    }\n",
       "</style>\n",
       "<table border=\"1\" class=\"dataframe\">\n",
       "  <thead>\n",
       "    <tr style=\"text-align: right;\">\n",
       "      <th>項目</th>\n",
       "      <th>總人口數(人) *</th>\n",
       "      <th>男性人口數(人) *</th>\n",
       "      <th>女性人口數(人) *</th>\n",
       "      <th>人口增加率(‰)</th>\n",
       "      <th>自然增加率(‰)</th>\n",
       "      <th>社會增加率(‰)</th>\n",
       "      <th>總扶養比</th>\n",
       "      <th>扶幼比</th>\n",
       "      <th>扶老比</th>\n",
       "      <th>老化指數</th>\n",
       "      <th>年齡中位數(歲) **</th>\n",
       "      <th>男性年齡中位數(歲) **</th>\n",
       "      <th>女性年齡中位數(歲) **</th>\n",
       "    </tr>\n",
       "    <tr>\n",
       "      <th>year</th>\n",
       "      <th></th>\n",
       "      <th></th>\n",
       "      <th></th>\n",
       "      <th></th>\n",
       "      <th></th>\n",
       "      <th></th>\n",
       "      <th></th>\n",
       "      <th></th>\n",
       "      <th></th>\n",
       "      <th></th>\n",
       "      <th></th>\n",
       "      <th></th>\n",
       "      <th></th>\n",
       "    </tr>\n",
       "  </thead>\n",
       "  <tbody>\n",
       "    <tr>\n",
       "      <th>2017</th>\n",
       "      <td>2.35712e+07</td>\n",
       "      <td>1.17196e+07</td>\n",
       "      <td>1.18516e+07</td>\n",
       "      <td>1.33</td>\n",
       "      <td>0.96</td>\n",
       "      <td>0.37</td>\n",
       "      <td>36.95</td>\n",
       "      <td>17.96</td>\n",
       "      <td>18.99</td>\n",
       "      <td>105.7</td>\n",
       "      <td>40.99</td>\n",
       "      <td>40.04</td>\n",
       "      <td>41.83</td>\n",
       "    </tr>\n",
       "    <tr>\n",
       "      <th>2018</th>\n",
       "      <td>2.35889e+07</td>\n",
       "      <td>1.17129e+07</td>\n",
       "      <td>1.1876e+07</td>\n",
       "      <td>0.75</td>\n",
       "      <td>0.37</td>\n",
       "      <td>0.38</td>\n",
       "      <td>37.89</td>\n",
       "      <td>17.82</td>\n",
       "      <td>20.07</td>\n",
       "      <td>112.64</td>\n",
       "      <td>41.54</td>\n",
       "      <td>40.57</td>\n",
       "      <td>42.46</td>\n",
       "    </tr>\n",
       "    <tr>\n",
       "      <th>2019</th>\n",
       "      <td>2.36031e+07</td>\n",
       "      <td>1.17052e+07</td>\n",
       "      <td>1.18979e+07</td>\n",
       "      <td>0.6</td>\n",
       "      <td>0.06</td>\n",
       "      <td>0.54</td>\n",
       "      <td>38.96</td>\n",
       "      <td>17.72</td>\n",
       "      <td>21.24</td>\n",
       "      <td>119.82</td>\n",
       "      <td>42.1</td>\n",
       "      <td>41.11</td>\n",
       "      <td>43.09</td>\n",
       "    </tr>\n",
       "    <tr>\n",
       "      <th>2020</th>\n",
       "      <td>2.35612e+07</td>\n",
       "      <td>1.16738e+07</td>\n",
       "      <td>1.18875e+07</td>\n",
       "      <td>-1.78</td>\n",
       "      <td>-0.34</td>\n",
       "      <td>-1.44</td>\n",
       "      <td>40.16</td>\n",
       "      <td>17.63</td>\n",
       "      <td>22.53</td>\n",
       "      <td>127.8</td>\n",
       "      <td>42.68</td>\n",
       "      <td>41.66</td>\n",
       "      <td>43.71</td>\n",
       "    </tr>\n",
       "    <tr>\n",
       "      <th>2021</th>\n",
       "      <td>2.33753e+07</td>\n",
       "      <td>1.15787e+07</td>\n",
       "      <td>1.17966e+07</td>\n",
       "      <td>-7.89</td>\n",
       "      <td>-1.27</td>\n",
       "      <td>-6.65</td>\n",
       "      <td>41.27</td>\n",
       "      <td>17.47</td>\n",
       "      <td>23.81</td>\n",
       "      <td>136.3</td>\n",
       "      <td>43.27</td>\n",
       "      <td>42.22</td>\n",
       "      <td>44.33</td>\n",
       "    </tr>\n",
       "    <tr>\n",
       "      <th>2022</th>\n",
       "      <td>2.31736e+07</td>\n",
       "      <td>1.14758e+07</td>\n",
       "      <td>1.16978e+07</td>\n",
       "      <td>-8.7</td>\n",
       "      <td>-2.4</td>\n",
       "      <td>-6.3</td>\n",
       "      <td>42.2</td>\n",
       "      <td>17.2</td>\n",
       "      <td>24.9</td>\n",
       "      <td>144.7</td>\n",
       "      <td>43.9</td>\n",
       "      <td>42.8</td>\n",
       "      <td>44.9</td>\n",
       "    </tr>\n",
       "  </tbody>\n",
       "</table>\n",
       "</div>"
      ],
      "text/plain": [
       "項目      總人口數(人) *   男性人口數(人) *   女性人口數(人) * 人口增加率(‰) 自然增加率(‰) 社會增加率(‰)   總扶養比  \\\n",
       "year                                                                            \n",
       "2017  2.35712e+07  1.17196e+07  1.18516e+07     1.33     0.96     0.37  36.95   \n",
       "2018  2.35889e+07  1.17129e+07   1.1876e+07     0.75     0.37     0.38  37.89   \n",
       "2019  2.36031e+07  1.17052e+07  1.18979e+07      0.6     0.06     0.54  38.96   \n",
       "2020  2.35612e+07  1.16738e+07  1.18875e+07    -1.78    -0.34    -1.44  40.16   \n",
       "2021  2.33753e+07  1.15787e+07  1.17966e+07    -7.89    -1.27    -6.65  41.27   \n",
       "2022  2.31736e+07  1.14758e+07  1.16978e+07     -8.7     -2.4     -6.3   42.2   \n",
       "\n",
       "項目      扶幼比    扶老比    老化指數 年齡中位數(歲) ** 男性年齡中位數(歲) ** 女性年齡中位數(歲) **  \n",
       "year                                                                \n",
       "2017  17.96  18.99   105.7       40.99         40.04         41.83  \n",
       "2018  17.82  20.07  112.64       41.54         40.57         42.46  \n",
       "2019  17.72  21.24  119.82        42.1         41.11         43.09  \n",
       "2020  17.63  22.53   127.8       42.68         41.66         43.71  \n",
       "2021  17.47  23.81   136.3       43.27         42.22         44.33  \n",
       "2022   17.2   24.9   144.7        43.9          42.8          44.9  "
      ]
     },
     "execution_count": 27,
     "metadata": {},
     "output_type": "execute_result"
    }
   ],
   "source": [
    "# The original dataframe, columns are years \n",
    "# rows are the total population and different rates of increase,and different dependency ratios and median age by gender\n",
    "popul"
   ]
  },
  {
   "cell_type": "code",
   "execution_count": 13,
   "metadata": {},
   "outputs": [],
   "source": [
    "# Convert rows and columns in dataframe\n",
    "popul = popul.T\n",
    "# Drop the row '推估情境 (Estimated situation)'\n",
    "popul.drop('推估情境', axis = 0, inplace = True)"
   ]
  },
  {
   "cell_type": "code",
   "execution_count": 15,
   "metadata": {},
   "outputs": [],
   "source": [
    "# Change the index name\n",
    "popul.index.name = 'year'\n",
    "\n",
    "#'人口增加率' = Population increase rate(‰), '社會增加率' = Social increase rate(‰)\n",
    "pop = popul.groupby('year').agg({'人口增加率(‰)':'sum','社會增加率(‰)':'sum'})\n",
    "\n",
    "# Change the columns name\n",
    "pop.columns = ['Popul_incr_rate','Social_incr_rate']"
   ]
  },
  {
   "cell_type": "code",
   "execution_count": 16,
   "metadata": {},
   "outputs": [
    {
     "data": {
      "text/html": [
       "<div>\n",
       "<style scoped>\n",
       "    .dataframe tbody tr th:only-of-type {\n",
       "        vertical-align: middle;\n",
       "    }\n",
       "\n",
       "    .dataframe tbody tr th {\n",
       "        vertical-align: top;\n",
       "    }\n",
       "\n",
       "    .dataframe thead th {\n",
       "        text-align: right;\n",
       "    }\n",
       "</style>\n",
       "<table border=\"1\" class=\"dataframe\">\n",
       "  <thead>\n",
       "    <tr style=\"text-align: right;\">\n",
       "      <th></th>\n",
       "      <th>Popul_incr_rate</th>\n",
       "      <th>Social_incr_rate</th>\n",
       "    </tr>\n",
       "    <tr>\n",
       "      <th>year</th>\n",
       "      <th></th>\n",
       "      <th></th>\n",
       "    </tr>\n",
       "  </thead>\n",
       "  <tbody>\n",
       "    <tr>\n",
       "      <th>2017</th>\n",
       "      <td>1.33</td>\n",
       "      <td>0.37</td>\n",
       "    </tr>\n",
       "    <tr>\n",
       "      <th>2018</th>\n",
       "      <td>0.75</td>\n",
       "      <td>0.38</td>\n",
       "    </tr>\n",
       "    <tr>\n",
       "      <th>2019</th>\n",
       "      <td>0.60</td>\n",
       "      <td>0.54</td>\n",
       "    </tr>\n",
       "    <tr>\n",
       "      <th>2020</th>\n",
       "      <td>-1.78</td>\n",
       "      <td>-1.44</td>\n",
       "    </tr>\n",
       "    <tr>\n",
       "      <th>2021</th>\n",
       "      <td>-7.89</td>\n",
       "      <td>-6.65</td>\n",
       "    </tr>\n",
       "    <tr>\n",
       "      <th>2022</th>\n",
       "      <td>-8.70</td>\n",
       "      <td>-6.30</td>\n",
       "    </tr>\n",
       "  </tbody>\n",
       "</table>\n",
       "</div>"
      ],
      "text/plain": [
       "      Popul_incr_rate  Social_incr_rate\n",
       "year                                   \n",
       "2017             1.33              0.37\n",
       "2018             0.75              0.38\n",
       "2019             0.60              0.54\n",
       "2020            -1.78             -1.44\n",
       "2021            -7.89             -6.65\n",
       "2022            -8.70             -6.30"
      ]
     },
     "execution_count": 16,
     "metadata": {},
     "output_type": "execute_result"
    }
   ],
   "source": [
    "pop"
   ]
  },
  {
   "cell_type": "code",
   "execution_count": 31,
   "metadata": {},
   "outputs": [
    {
     "data": {
      "text/plain": [
       "<matplotlib.axes._subplots.AxesSubplot at 0x7f5b87509fd0>"
      ]
     },
     "execution_count": 31,
     "metadata": {},
     "output_type": "execute_result"
    },
    {
     "data": {
      "image/png": "[encoded data removed]",
      "text/plain": [
       "<Figure size 504x504 with 1 Axes>"
      ]
     },
     "metadata": {
      "needs_background": "light"
     },
     "output_type": "display_data"
    }
   ],
   "source": [
    "%matplotlib inline\n",
    "pop.plot.line(figsize=(7, 7))"
   ]
  },
  {
   "cell_type": "markdown",
   "metadata": {},
   "source": [
    "This graph shows that the population of Taiwan is actually decreasing and the total population is not increasing. However, the reason for the slight increase in the social growth rate after 2021 is that the government has attracted foreign investors and Taiwanese businessmen to come to Taiwan or return to Taiwan for investment after the epidemic. Overall, the total population is still moving out of Taiwan, we can realize that the overall environment of Taiwan is still not attractive enough to keep Taiwanese people."
   ]
  },
  {
   "cell_type": "markdown",
   "metadata": {},
   "source": [
    "# 4. House price / Income ratio"
   ]
  },
  {
   "cell_type": "markdown",
   "metadata": {},
   "source": [
    "The third component, the ratio of house price to income, is the median housing price/median annual disposable income of Taiwanese households. This value shows whether people's income is keeping up with the housing price issue."
   ]
  },
  {
   "cell_type": "code",
   "execution_count": 32,
   "metadata": {},
   "outputs": [],
   "source": [
    "hou_n_inco_ratio = pd.read_csv('house_price & income ratio.csv', encoding='big5')"
   ]
  },
  {
   "cell_type": "code",
   "execution_count": 33,
   "metadata": {},
   "outputs": [
    {
     "data": {
      "text/html": [
       "<div>\n",
       "<style scoped>\n",
       "    .dataframe tbody tr th:only-of-type {\n",
       "        vertical-align: middle;\n",
       "    }\n",
       "\n",
       "    .dataframe tbody tr th {\n",
       "        vertical-align: top;\n",
       "    }\n",
       "\n",
       "    .dataframe thead th {\n",
       "        text-align: right;\n",
       "    }\n",
       "</style>\n",
       "<table border=\"1\" class=\"dataframe\">\n",
       "  <thead>\n",
       "    <tr style=\"text-align: right;\">\n",
       "      <th></th>\n",
       "      <th>年度季別</th>\n",
       "      <th>全國</th>\n",
       "    </tr>\n",
       "  </thead>\n",
       "  <tbody>\n",
       "    <tr>\n",
       "      <th>0</th>\n",
       "      <td>110Q4</td>\n",
       "      <td>9.46</td>\n",
       "    </tr>\n",
       "    <tr>\n",
       "      <th>1</th>\n",
       "      <td>110Q3</td>\n",
       "      <td>9.24</td>\n",
       "    </tr>\n",
       "    <tr>\n",
       "      <th>2</th>\n",
       "      <td>110Q2</td>\n",
       "      <td>9.07</td>\n",
       "    </tr>\n",
       "    <tr>\n",
       "      <th>3</th>\n",
       "      <td>110Q1</td>\n",
       "      <td>9.13</td>\n",
       "    </tr>\n",
       "    <tr>\n",
       "      <th>4</th>\n",
       "      <td>109Q4</td>\n",
       "      <td>9.20</td>\n",
       "    </tr>\n",
       "    <tr>\n",
       "      <th>5</th>\n",
       "      <td>109Q3</td>\n",
       "      <td>9.19</td>\n",
       "    </tr>\n",
       "    <tr>\n",
       "      <th>6</th>\n",
       "      <td>109Q2</td>\n",
       "      <td>8.66</td>\n",
       "    </tr>\n",
       "    <tr>\n",
       "      <th>7</th>\n",
       "      <td>109Q1</td>\n",
       "      <td>8.62</td>\n",
       "    </tr>\n",
       "    <tr>\n",
       "      <th>8</th>\n",
       "      <td>108Q4</td>\n",
       "      <td>8.58</td>\n",
       "    </tr>\n",
       "    <tr>\n",
       "      <th>9</th>\n",
       "      <td>108Q3</td>\n",
       "      <td>8.47</td>\n",
       "    </tr>\n",
       "    <tr>\n",
       "      <th>10</th>\n",
       "      <td>108Q2</td>\n",
       "      <td>8.79</td>\n",
       "    </tr>\n",
       "    <tr>\n",
       "      <th>11</th>\n",
       "      <td>108Q1</td>\n",
       "      <td>8.66</td>\n",
       "    </tr>\n",
       "    <tr>\n",
       "      <th>12</th>\n",
       "      <td>107Q4</td>\n",
       "      <td>8.57</td>\n",
       "    </tr>\n",
       "    <tr>\n",
       "      <th>13</th>\n",
       "      <td>107Q3</td>\n",
       "      <td>8.82</td>\n",
       "    </tr>\n",
       "    <tr>\n",
       "      <th>14</th>\n",
       "      <td>107Q2</td>\n",
       "      <td>9.00</td>\n",
       "    </tr>\n",
       "    <tr>\n",
       "      <th>15</th>\n",
       "      <td>107Q1</td>\n",
       "      <td>9.08</td>\n",
       "    </tr>\n",
       "  </tbody>\n",
       "</table>\n",
       "</div>"
      ],
      "text/plain": [
       "     年度季別    全國\n",
       "0   110Q4  9.46\n",
       "1   110Q3  9.24\n",
       "2   110Q2  9.07\n",
       "3   110Q1  9.13\n",
       "4   109Q4  9.20\n",
       "5   109Q3  9.19\n",
       "6   109Q2  8.66\n",
       "7   109Q1  8.62\n",
       "8   108Q4  8.58\n",
       "9   108Q3  8.47\n",
       "10  108Q2  8.79\n",
       "11  108Q1  8.66\n",
       "12  107Q4  8.57\n",
       "13  107Q3  8.82\n",
       "14  107Q2  9.00\n",
       "15  107Q1  9.08"
      ]
     },
     "execution_count": 33,
     "metadata": {},
     "output_type": "execute_result"
    }
   ],
   "source": [
    "# This is original dataframe, columns '年度季別' = Annual Quarterly, '全國' = Taiwan\n",
    "# (Q1 = Spring, Q2 = Summer, Q3 = Fall, Q4 = Winter)\n",
    "# In df is the year of Taiwan, we need to add 1911 will become the year of CE. For example, 110 = 2021, 109 = 2020.\n",
    "hou_n_inco_ratio"
   ]
  },
  {
   "cell_type": "code",
   "execution_count": 34,
   "metadata": {},
   "outputs": [],
   "source": [
    "hou_n_inco_ratio = pd.read_csv('house_price & income ratio.csv', encoding='big5')\n",
    "\n",
    "# Change the columns name\n",
    "hou_n_inco_ratio.replace(['110Q4','110Q3','110Q2','110Q1'], '2021', inplace = True)\n",
    "hou_n_inco_ratio.replace(['109Q4','109Q3','109Q2','109Q1'], '2020',inplace = True)\n",
    "hou_n_inco_ratio.replace(['108Q4','108Q3','108Q2','108Q1'], '2019',inplace = True)\n",
    "hou_n_inco_ratio.replace(['107Q4','107Q3','107Q2','107Q1'], '2018',inplace = True)\n",
    "\n",
    "# Calculate the average value of each year\n",
    "h_i_ratio = hou_n_inco_ratio.groupby('年度季別').agg({'全國':'mean'})\n",
    "\n",
    "# Change index name and column name\n",
    "h_i_ratio.index.name = 'year'\n",
    "h_i_ratio.columns = ['Taiwan_H/I']"
   ]
  },
  {
   "cell_type": "code",
   "execution_count": 35,
   "metadata": {},
   "outputs": [
    {
     "data": {
      "text/html": [
       "<div>\n",
       "<style scoped>\n",
       "    .dataframe tbody tr th:only-of-type {\n",
       "        vertical-align: middle;\n",
       "    }\n",
       "\n",
       "    .dataframe tbody tr th {\n",
       "        vertical-align: top;\n",
       "    }\n",
       "\n",
       "    .dataframe thead th {\n",
       "        text-align: right;\n",
       "    }\n",
       "</style>\n",
       "<table border=\"1\" class=\"dataframe\">\n",
       "  <thead>\n",
       "    <tr style=\"text-align: right;\">\n",
       "      <th></th>\n",
       "      <th>Taiwan_H/I</th>\n",
       "    </tr>\n",
       "    <tr>\n",
       "      <th>year</th>\n",
       "      <th></th>\n",
       "    </tr>\n",
       "  </thead>\n",
       "  <tbody>\n",
       "    <tr>\n",
       "      <th>2018</th>\n",
       "      <td>8.8675</td>\n",
       "    </tr>\n",
       "    <tr>\n",
       "      <th>2019</th>\n",
       "      <td>8.6250</td>\n",
       "    </tr>\n",
       "    <tr>\n",
       "      <th>2020</th>\n",
       "      <td>8.9175</td>\n",
       "    </tr>\n",
       "    <tr>\n",
       "      <th>2021</th>\n",
       "      <td>9.2250</td>\n",
       "    </tr>\n",
       "  </tbody>\n",
       "</table>\n",
       "</div>"
      ],
      "text/plain": [
       "      Taiwan_H/I\n",
       "year            \n",
       "2018      8.8675\n",
       "2019      8.6250\n",
       "2020      8.9175\n",
       "2021      9.2250"
      ]
     },
     "execution_count": 35,
     "metadata": {},
     "output_type": "execute_result"
    }
   ],
   "source": [
    "h_i_ratio"
   ]
  },
  {
   "cell_type": "code",
   "execution_count": 36,
   "metadata": {},
   "outputs": [
    {
     "data": {
      "text/plain": [
       "<matplotlib.axes._subplots.AxesSubplot at 0x7f5b86d2dc50>"
      ]
     },
     "execution_count": 36,
     "metadata": {},
     "output_type": "execute_result"
    },
    {
     "data": {
      "image/png": "[encoded data removed]",
      "text/plain": [
       "<Figure size 504x504 with 1 Axes>"
      ]
     },
     "metadata": {
      "needs_background": "light"
     },
     "output_type": "display_data"
    }
   ],
   "source": [
    "%matplotlib inline\n",
    "h_i_ratio.plot.line(figsize=(7, 7))"
   ]
  },
  {
   "cell_type": "markdown",
   "metadata": {},
   "source": [
    "According to the graph above, we can see that the housing to income ratio in Taiwan is increasing after 2019. This means that the price of housing is increasing and people cannot afford to pay for housing with their current salary."
   ]
  },
  {
   "cell_type": "markdown",
   "metadata": {},
   "source": [
    "# 4. Merge all the dataframe"
   ]
  },
  {
   "cell_type": "markdown",
   "metadata": {},
   "source": [
    "I would like to put the salary change, population change, and housing price/income ratio in the same dataframe to take a comprehensive look at Taiwan's environment over the years."
   ]
  },
  {
   "cell_type": "code",
   "execution_count": 43,
   "metadata": {},
   "outputs": [],
   "source": [
    "# Merge salary change and housing price/income ratio \n",
    "result = pd.merge(tw_avg_sal,h_i_ratio,how ='inner',on = ['year'])"
   ]
  },
  {
   "cell_type": "code",
   "execution_count": 45,
   "metadata": {},
   "outputs": [],
   "source": [
    "# Merge with population change\n",
    "results = pd.merge(result,pop, how ='inner',on = ['year'])"
   ]
  },
  {
   "cell_type": "code",
   "execution_count": 46,
   "metadata": {},
   "outputs": [
    {
     "data": {
      "text/html": [
       "<div>\n",
       "<style scoped>\n",
       "    .dataframe tbody tr th:only-of-type {\n",
       "        vertical-align: middle;\n",
       "    }\n",
       "\n",
       "    .dataframe tbody tr th {\n",
       "        vertical-align: top;\n",
       "    }\n",
       "\n",
       "    .dataframe thead th {\n",
       "        text-align: right;\n",
       "    }\n",
       "</style>\n",
       "<table border=\"1\" class=\"dataframe\">\n",
       "  <thead>\n",
       "    <tr style=\"text-align: right;\">\n",
       "      <th></th>\n",
       "      <th>Industrial</th>\n",
       "      <th>Ser_Industry</th>\n",
       "      <th>Taiwan_H/I</th>\n",
       "      <th>Popul_incr_rate</th>\n",
       "      <th>Social_incr_rate</th>\n",
       "    </tr>\n",
       "    <tr>\n",
       "      <th>year</th>\n",
       "      <th></th>\n",
       "      <th></th>\n",
       "      <th></th>\n",
       "      <th></th>\n",
       "      <th></th>\n",
       "    </tr>\n",
       "  </thead>\n",
       "  <tbody>\n",
       "    <tr>\n",
       "      <th>2018</th>\n",
       "      <td>62259.714286</td>\n",
       "      <td>48413.428571</td>\n",
       "      <td>8.8675</td>\n",
       "      <td>0.75</td>\n",
       "      <td>0.38</td>\n",
       "    </tr>\n",
       "    <tr>\n",
       "      <th>2019</th>\n",
       "      <td>66005.428571</td>\n",
       "      <td>49716.285714</td>\n",
       "      <td>8.6250</td>\n",
       "      <td>0.60</td>\n",
       "      <td>0.54</td>\n",
       "    </tr>\n",
       "    <tr>\n",
       "      <th>2020</th>\n",
       "      <td>64596.857143</td>\n",
       "      <td>52946.428571</td>\n",
       "      <td>8.9175</td>\n",
       "      <td>-1.78</td>\n",
       "      <td>-1.44</td>\n",
       "    </tr>\n",
       "    <tr>\n",
       "      <th>2021</th>\n",
       "      <td>68934.000000</td>\n",
       "      <td>50455.714286</td>\n",
       "      <td>9.2250</td>\n",
       "      <td>-7.89</td>\n",
       "      <td>-6.65</td>\n",
       "    </tr>\n",
       "  </tbody>\n",
       "</table>\n",
       "</div>"
      ],
      "text/plain": [
       "        Industrial  Ser_Industry  Taiwan_H/I  Popul_incr_rate  \\\n",
       "year                                                            \n",
       "2018  62259.714286  48413.428571      8.8675             0.75   \n",
       "2019  66005.428571  49716.285714      8.6250             0.60   \n",
       "2020  64596.857143  52946.428571      8.9175            -1.78   \n",
       "2021  68934.000000  50455.714286      9.2250            -7.89   \n",
       "\n",
       "      Social_incr_rate  \n",
       "year                    \n",
       "2018              0.38  \n",
       "2019              0.54  \n",
       "2020             -1.44  \n",
       "2021             -6.65  "
      ]
     },
     "execution_count": 46,
     "metadata": {},
     "output_type": "execute_result"
    }
   ],
   "source": [
    "results"
   ]
  },
  {
   "cell_type": "code",
   "execution_count": 47,
   "metadata": {},
   "outputs": [
    {
     "data": {
      "text/plain": [
       "array([<matplotlib.axes._subplots.AxesSubplot object at 0x7f5b86ca2588>,\n",
       "       <matplotlib.axes._subplots.AxesSubplot object at 0x7f5b8685a0b8>,\n",
       "       <matplotlib.axes._subplots.AxesSubplot object at 0x7f5b8680e0b8>,\n",
       "       <matplotlib.axes._subplots.AxesSubplot object at 0x7f5b867c40b8>,\n",
       "       <matplotlib.axes._subplots.AxesSubplot object at 0x7f5b8677a0b8>],\n",
       "      dtype=object)"
      ]
     },
     "execution_count": 47,
     "metadata": {},
     "output_type": "execute_result"
    },
    {
     "data": {
      "image/png": "[encoded data removed]",
      "text/plain": [
       "<Figure size 936x936 with 5 Axes>"
      ]
     },
     "metadata": {
      "needs_background": "light"
     },
     "output_type": "display_data"
    }
   ],
   "source": [
    "results.plot.line(subplots=True, figsize=(13, 13))"
   ]
  },
  {
   "cell_type": "markdown",
   "metadata": {},
   "source": [
    "#### Conclusion\n",
    "In the last graph, we can see that in general, only industry is on the rise in terms of wages in Taiwan. Although the increase in salary is good, the graph of housing to income ratio shows that most people cannot afford to buy a house. Finally, it is clear that the population is also moving out of the country, so we can deduce that the current living environment in Taiwan is not moving in the direction that the government is promoting."
   ]
  },
  {
   "cell_type": "markdown",
   "metadata": {},
   "source": [
    "## Resources"
   ]
  },
  {
   "cell_type": "markdown",
   "metadata": {},
   "source": [
    "[TW_salary_2018-2021](https://pswst.mol.gov.tw/psdn/Query/wFrmQuery01.aspx)"
   ]
  },
  {
   "cell_type": "markdown",
   "metadata": {},
   "source": [
    "[TW_population_2018-2022](https://pop-proj.ndc.gov.tw/dataSearch.aspx?uid=3109&pid=59)"
   ]
  },
  {
   "cell_type": "markdown",
   "metadata": {},
   "source": [
    "[TW_House price/Income ratio 2018-2021](https://pip.moi.gov.tw/V3/E/SCRE0201.aspx)"
   ]
  }
 ],
 "metadata": {
  "kernelspec": {
   "display_name": "Python 3",
   "language": "python",
   "name": "python3"
  },
  "language_info": {
   "codemirror_mode": {
    "name": "ipython",
    "version": 3
   },
   "file_extension": ".py",
   "mimetype": "text/x-python",
   "name": "python",
   "nbconvert_exporter": "python",
   "pygments_lexer": "ipython3",
   "version": "3.6.7"
  }
 },
 "nbformat": 4,
 "nbformat_minor": 4
}
